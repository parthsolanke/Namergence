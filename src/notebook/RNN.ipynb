{
 "cells": [
  {
   "cell_type": "code",
   "execution_count": 3,
   "metadata": {},
   "outputs": [],
   "source": [
    "import torch\n",
    "import torch.nn as nn\n",
    "import matplotlib.pyplot as plt\n",
    "import numpy as np\n",
    "from utils import loader"
   ]
  },
  {
   "cell_type": "code",
   "execution_count": 4,
   "metadata": {},
   "outputs": [
    {
     "name": "stdout",
     "output_type": "stream",
     "text": [
      "device: cpu\n"
     ]
    }
   ],
   "source": [
    "# device configuration\n",
    "device = torch.device('cuda' if torch.cuda.is_available() else 'cpu')\n",
    "print(f'device: {device}')"
   ]
  },
  {
   "cell_type": "code",
   "execution_count": 5,
   "metadata": {},
   "outputs": [],
   "source": [
    "# model architecture\n",
    "class RNN(nn.Module):\n",
    "    def __init__(self, input_size, hidden_size, output_size):\n",
    "        super(RNN, self).__init__()\n",
    "        \n",
    "        self.hidden_size = hidden_size\n",
    "        self.in_to_hidden = nn.Linear(input_size + hidden_size, hidden_size)\n",
    "        self.in_to_out = nn.Linear(input_size + hidden_size, output_size)\n",
    "        self.softmax = nn.LogSoftmax(dim=1)\n",
    "\n",
    "    def forward(self, input, hidden):\n",
    "        combined = torch.cat((input, hidden), 1)\n",
    "        hidden = self.in_to_hidden(combined)\n",
    "        out = self.in_to_out(combined)\n",
    "        out = self.softmax(out)\n",
    "        return out, hidden\n",
    "    \n",
    "    def init_hidden(self):\n",
    "        return torch.zeros(1, self.hidden_size)"
   ]
  },
  {
   "cell_type": "code",
   "execution_count": 6,
   "metadata": {},
   "outputs": [
    {
     "data": {
      "text/plain": [
       "19"
      ]
     },
     "execution_count": 6,
     "metadata": {},
     "output_type": "execute_result"
    }
   ],
   "source": [
    "# dataset\n",
    "names, labels = loader.load_data()\n",
    "n_categories = len(labels)\n",
    "n_categories"
   ]
  },
  {
   "cell_type": "code",
   "execution_count": 7,
   "metadata": {},
   "outputs": [],
   "source": [
    "n_hidden = 128\n",
    "model = RNN(loader.N_LETTERS, n_hidden, n_categories).to(device)"
   ]
  },
  {
   "cell_type": "code",
   "execution_count": 8,
   "metadata": {},
   "outputs": [],
   "source": [
    "# Category from output\n",
    "def category_from_output(output):\n",
    "    catagory_idx = torch.argmax(output).item()\n",
    "    return labels[catagory_idx]"
   ]
  },
  {
   "cell_type": "code",
   "execution_count": 99,
   "metadata": {},
   "outputs": [],
   "source": [
    "# Loss and optimizer\n",
    "learning_rate = 0.0000001\n",
    "criterion = nn.NLLLoss()\n",
    "optimizer = torch.optim.SGD(model.parameters(), lr=learning_rate)"
   ]
  },
  {
   "cell_type": "code",
   "execution_count": 100,
   "metadata": {},
   "outputs": [],
   "source": [
    "def train(name_tensor, label_tensor):\n",
    "    hidden = model.init_hidden()\n",
    "    for i in range(name_tensor.size()[0]):\n",
    "        output, hidden = model(name_tensor[i], hidden)\n",
    "    loss = criterion(output, label_tensor)\n",
    "    optimizer.zero_grad()\n",
    "    loss.backward()\n",
    "    optimizer.step()\n",
    "    return output, loss.item()"
   ]
  },
  {
   "cell_type": "code",
   "execution_count": 101,
   "metadata": {},
   "outputs": [
    {
     "name": "stdout",
     "output_type": "stream",
     "text": [
      "5000 5.00% (Cabral) 1.5157 Cabral / Portuguese ✅\n",
      "10000 10.00% (Baidin) 2.3397 Baidin / Arabic ❌ (Russian)\n",
      "15000 15.00% (Priimkov) 0.1785 Priimkov / Russian ✅\n",
      "20000 20.00% (O'Brien) 0.6482 O'Brien / Irish ✅\n",
      "25000 25.00% (yokeethasri) 0.0000 yokeethasri / Indian ✅\n",
      "30000 30.00% (Kaiser) 2.2413 Kaiser / Arabic ❌ (Czech)\n",
      "35000 35.00% (Trieu) 0.9660 Trieu / Vietnamese ✅\n",
      "40000 40.00% (Cha) 1.2597 Cha / Chinese ❌ (Korean)\n",
      "45000 45.00% (Pelaez) 1.5598 Pelaez / Spanish ✅\n",
      "50000 50.00% (karthic) 0.0144 karthic / Indian ✅\n",
      "55000 55.00% (Zilberschlag) 2.9031 Zilberschlag / Greek ❌ (German)\n",
      "60000 60.00% (Ferguson) 0.6121 Ferguson / Scottish ✅\n",
      "65000 65.00% (Laconi) 0.4109 Laconi / Italian ✅\n",
      "70000 70.00% (Ghanem) 0.7694 Ghanem / Arabic ✅\n",
      "75000 75.00% (Abatangelo) 0.5514 Abatangelo / Italian ✅\n",
      "80000 80.00% (Wareing) 2.2063 Wareing / Italian ❌ (English)\n",
      "85000 85.00% (Vincent) 1.3782 Vincent / French ✅\n",
      "90000 90.00% (Chun) 1.1503 Chun / Korean ✅\n",
      "95000 95.00% (Treasach) 2.1103 Treasach / French ❌ (Irish)\n",
      "100000 100.00% (Riagan) 0.7463 Riagan / Irish ✅\n"
     ]
    }
   ],
   "source": [
    "# Training\n",
    "n_iters = 100000\n",
    "print_every = 5000\n",
    "plot_every = 1000\n",
    "current_loss = 0\n",
    "all_losses = []\n",
    "for iter in range(1, n_iters + 1):\n",
    "    category, name, label_tensor, name_tensor = loader.random_training_example(names, labels)\n",
    "    output, loss = train(name_tensor, label_tensor)\n",
    "    current_loss += loss\n",
    "\n",
    "    if iter % print_every == 0:\n",
    "        guess = category_from_output(output)\n",
    "        correct = '✅' if guess == category else f'❌ ({category})'\n",
    "        print(f'{iter} {iter/n_iters*100:.2f}% ({name}) {loss:.4f} {name} / {guess} {correct}')\n",
    "\n",
    "    if iter % plot_every == 0:\n",
    "        all_losses.append(current_loss / plot_every)\n",
    "        current_loss = 0"
   ]
  },
  {
   "cell_type": "code",
   "execution_count": 103,
   "metadata": {},
   "outputs": [
    {
     "data": {
      "image/png": "[encoded data removed]",
      "text/plain": [
       "<Figure size 640x480 with 1 Axes>"
      ]
     },
     "metadata": {},
     "output_type": "display_data"
    }
   ],
   "source": [
    "# Plotting the results\n",
    "plt.figure()\n",
    "plt.plot(losses)\n",
    "plt.show()"
   ]
  },
  {
   "cell_type": "code",
   "execution_count": 104,
   "metadata": {},
   "outputs": [],
   "source": [
    "# Prediction function\n",
    "def predict(name):\n",
    "    with torch.no_grad():\n",
    "        name_tensor = loader.line_to_tensor(name)\n",
    "        hidden = model.init_hidden()\n",
    "        for i in range(name_tensor.size()[0]):\n",
    "            output, hidden = model(name_tensor[i], hidden)  \n",
    "        label = category_from_output(output)\n",
    "        confidence = torch.exp(output).max().item()\n",
    "        return label, confidence"
   ]
  },
  {
   "cell_type": "code",
   "execution_count": 105,
   "metadata": {},
   "outputs": [
    {
     "name": "stdout",
     "output_type": "stream",
     "text": [
      "accuracy: 0.60\n"
     ]
    }
   ],
   "source": [
    "# Evaluation accuracy\n",
    "with torch.no_grad():\n",
    "    n_correct = 0\n",
    "    n_total = 0\n",
    "    for category in labels:\n",
    "        for name in names[category]:\n",
    "            label, confidence = predict(name)\n",
    "            n_total += 1\n",
    "            if label == category:\n",
    "                n_correct += 1\n",
    "    print(f'accuracy: {n_correct/n_total:.2f}')"
   ]
  },
  {
   "cell_type": "code",
   "execution_count": 106,
   "metadata": {},
   "outputs": [],
   "source": [
    "# saving the model and labels\n",
    "save_path = '../model'\n",
    "torch.save(model.state_dict(), f\"{save_path}/model.pth\")\n",
    "np.save(f'{save_path}/labels.npy', labels)"
   ]
  },
  {
   "cell_type": "code",
   "execution_count": 109,
   "metadata": {},
   "outputs": [
    {
     "data": {
      "text/plain": [
       "RNN(\n",
       "  (in_to_hidden): Linear(in_features=185, out_features=128, bias=True)\n",
       "  (in_to_out): Linear(in_features=185, out_features=19, bias=True)\n",
       "  (softmax): LogSoftmax(dim=1)\n",
       ")"
      ]
     },
     "execution_count": 109,
     "metadata": {},
     "output_type": "execute_result"
    }
   ],
   "source": [
    "# loading saved model\n",
    "loaded_model = RNN(loader.N_LETTERS, n_hidden, n_categories).to(device)\n",
    "loaded_model.load_state_dict(torch.load(f\"{save_path}/model.pth\"))\n",
    "loaded_model.eval()"
   ]
  },
  {
   "cell_type": "code",
   "execution_count": 114,
   "metadata": {},
   "outputs": [
    {
     "data": {
      "text/plain": [
       "['Arabic',\n",
       " 'Chinese',\n",
       " 'Czech',\n",
       " 'Dutch',\n",
       " 'English',\n",
       " 'French',\n",
       " 'German',\n",
       " 'Greek',\n",
       " 'Indian',\n",
       " 'Irish',\n",
       " 'Italian',\n",
       " 'Japanese',\n",
       " 'Korean',\n",
       " 'Polish',\n",
       " 'Portuguese',\n",
       " 'Russian',\n",
       " 'Scottish',\n",
       " 'Spanish',\n",
       " 'Vietnamese']"
      ]
     },
     "execution_count": 114,
     "metadata": {},
     "output_type": "execute_result"
    }
   ],
   "source": [
    "# loading the labels\n",
    "loaded_labels = np.load(f'{save_path}/labels.npy', allow_pickle=True).tolist()\n",
    "loaded_labels"
   ]
  },
  {
   "cell_type": "code",
   "execution_count": 115,
   "metadata": {},
   "outputs": [
    {
     "name": "stdout",
     "output_type": "stream",
     "text": [
      "accuracy: 0.60\n"
     ]
    },
    {
     "data": {
      "text/plain": [
       "('Russian', 0.21167872846126556)"
      ]
     },
     "execution_count": 115,
     "metadata": {},
     "output_type": "execute_result"
    }
   ],
   "source": [
    "# Prediction function\n",
    "def predict(name):\n",
    "    with torch.no_grad():\n",
    "        name_tensor = loader.line_to_tensor(name)\n",
    "        hidden = loaded_model.init_hidden()\n",
    "        for i in range(name_tensor.size()[0]):\n",
    "            output, hidden = loaded_model(name_tensor[i], hidden)  \n",
    "        label = category_from_output(output)\n",
    "        confidence = torch.exp(output).max().item()\n",
    "        return label, confidence\n",
    "    \n",
    "# Evaluation accuracy\n",
    "with torch.no_grad():\n",
    "    n_correct = 0\n",
    "    n_total = 0\n",
    "    for category in loaded_labels:\n",
    "        for name in names[category]:\n",
    "            label, confidence = predict(name)\n",
    "            n_total += 1\n",
    "            if label == category:\n",
    "                n_correct += 1\n",
    "    print(f'accuracy: {n_correct/n_total:.2f}')\n",
    "    \n",
    "# Prediction\n",
    "predict('Dovesky') # Russian"
   ]
  }
 ],
 "metadata": {
  "kernelspec": {
   "display_name": "Python 3",
   "language": "python",
   "name": "python3"
  },
  "language_info": {
   "codemirror_mode": {
    "name": "ipython",
    "version": 3
   },
   "file_extension": ".py",
   "mimetype": "text/x-python",
   "name": "python",
   "nbconvert_exporter": "python",
   "pygments_lexer": "ipython3",
   "version": "3.9.9"
  }
 },
 "nbformat": 4,
 "nbformat_minor": 2
}
